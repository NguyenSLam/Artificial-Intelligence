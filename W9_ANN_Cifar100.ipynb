{
  "nbformat": 4,
  "nbformat_minor": 0,
  "metadata": {
    "colab": {
      "provenance": [],
      "authorship_tag": "ABX9TyMXVxBQTBmBq3AigQAZDROC",
      "include_colab_link": true
    },
    "kernelspec": {
      "name": "python3",
      "display_name": "Python 3"
    },
    "language_info": {
      "name": "python"
    },
    "accelerator": "GPU",
    "gpuClass": "standard"
  },
  "cells": [
    {
      "cell_type": "markdown",
      "metadata": {
        "id": "view-in-github",
        "colab_type": "text"
      },
      "source": [
        "<a href=\"https://colab.research.google.com/github/NguyenSLam/Artificial-Intelligence/blob/main/W9_ANN_Cifar100.ipynb\" target=\"_parent\"><img src=\"https://colab.research.google.com/assets/colab-badge.svg\" alt=\"Open In Colab\"/></a>"
      ]
    },
    {
      "cell_type": "code",
      "execution_count": 2,
      "metadata": {
        "id": "EtR037b1x_oM"
      },
      "outputs": [],
      "source": [
        "import matplotlib.pyplot as plt\n",
        "import numpy as np\n",
        "from keras.datasets import cifar100\n",
        "from keras.layers import Dense\n",
        "from keras.models import Sequential\n",
        "from keras.utils import to_categorical"
      ]
    },
    {
      "cell_type": "code",
      "source": [
        "(train_images, train_labels), (test_images, test_labels) = cifar100.load_data()"
      ],
      "metadata": {
        "id": "4HoDwVKoyu0b",
        "colab": {
          "base_uri": "https://localhost:8080/"
        },
        "outputId": "25c5ba20-aa58-48ea-8040-3b172051b1c4"
      },
      "execution_count": 3,
      "outputs": [
        {
          "output_type": "stream",
          "name": "stdout",
          "text": [
            "Downloading data from https://www.cs.toronto.edu/~kriz/cifar-100-python.tar.gz\n",
            "169001437/169001437 [==============================] - 2s 0us/step\n"
          ]
        }
      ]
    },
    {
      "cell_type": "code",
      "source": [
        "# Chuyển đổi các nhãn ở đầu ra thành định dạng one-hot encoding\n",
        "train_labels = to_categorical(train_labels, num_classes=100)\n",
        "test_labels = to_categorical(test_labels, num_classes=100)"
      ],
      "metadata": {
        "id": "BqPzzwKI1lgS"
      },
      "execution_count": 4,
      "outputs": []
    },
    {
      "cell_type": "code",
      "source": [
        "# Chuẩn hóa dữ liệu\n",
        "train_images = train_images.reshape(50000,32*32*3)\n",
        "train_images = train_images.astype('float32')/255\n",
        "\n",
        "test_images = test_images.reshape(10000,32*32*3)\n",
        "test_images = test_images.astype('float32')/255"
      ],
      "metadata": {
        "id": "ql1VDLdl1rFD"
      },
      "execution_count": 5,
      "outputs": []
    },
    {
      "cell_type": "code",
      "source": [
        "#-----------------------------Tạo 2 lớp trong mô hình ANN---------------------------------\n",
        "model = Sequential()\n",
        "model.add(Dense(512,activation = 'relu',input_shape = (3072,))) # Lớp đầu tiên"
      ],
      "metadata": {
        "id": "mk8w-imc1ufG"
      },
      "execution_count": 6,
      "outputs": []
    },
    {
      "cell_type": "code",
      "source": [
        "# Lớp thứ 2\n",
        "model.add(Dense(100,activation = 'Softmax')) # Lớp thứ 2, Liên kết với lớp trước đó, sẽ có 100 output ở ngõ ra"
      ],
      "metadata": {
        "id": "MCmqh7l42ENP"
      },
      "execution_count": 7,
      "outputs": []
    },
    {
      "cell_type": "code",
      "source": [
        "# Biên dịch chương trình\n",
        "model.compile(optimizer='Adam',loss='categorical_crossentropy',metrics=['accuracy']) # Có thể sử dụng optimizer rmsprop hoặc Adam đều được. Nhưng đối với dữ liệu nhiều chiều thì Adam sẽ cho kết quả tốt hơn\n",
        "     "
      ],
      "metadata": {
        "id": "YNk50sW02G0n"
      },
      "execution_count": 8,
      "outputs": []
    },
    {
      "cell_type": "code",
      "source": [
        "# Bắt đầu huấn luyện\n",
        "model.fit(train_images, train_labels, epochs = 10, batch_size = 128)\n",
        "\n",
        "# Đánh giá mô hình\n",
        "test_loss, test_acc = model.evaluate(test_images,test_labels)\n",
        "print('Mất mát:',test_loss)\n",
        "print('Độ chính xác',test_acc)"
      ],
      "metadata": {
        "colab": {
          "base_uri": "https://localhost:8080/"
        },
        "id": "KYZMJCcc2Xqs",
        "outputId": "ab509a15-2605-405f-e792-bba7709080e2"
      },
      "execution_count": 9,
      "outputs": [
        {
          "output_type": "stream",
          "name": "stdout",
          "text": [
            "Epoch 1/10\n",
            "391/391 [==============================] - 7s 4ms/step - loss: 4.1627 - accuracy: 0.0745\n",
            "Epoch 2/10\n",
            "391/391 [==============================] - 1s 4ms/step - loss: 3.7671 - accuracy: 0.1312\n",
            "Epoch 3/10\n",
            "391/391 [==============================] - 1s 4ms/step - loss: 3.6348 - accuracy: 0.1537\n",
            "Epoch 4/10\n",
            "391/391 [==============================] - 3s 8ms/step - loss: 3.5441 - accuracy: 0.1705\n",
            "Epoch 5/10\n",
            "391/391 [==============================] - 4s 10ms/step - loss: 3.4879 - accuracy: 0.1808\n",
            "Epoch 6/10\n",
            "391/391 [==============================] - 3s 7ms/step - loss: 3.4350 - accuracy: 0.1891\n",
            "Epoch 7/10\n",
            "391/391 [==============================] - 2s 5ms/step - loss: 3.3950 - accuracy: 0.1982\n",
            "Epoch 8/10\n",
            "391/391 [==============================] - 1s 4ms/step - loss: 3.3625 - accuracy: 0.2047\n",
            "Epoch 9/10\n",
            "391/391 [==============================] - 1s 4ms/step - loss: 3.3254 - accuracy: 0.2125\n",
            "Epoch 10/10\n",
            "391/391 [==============================] - 1s 4ms/step - loss: 3.2996 - accuracy: 0.2160\n",
            "313/313 [==============================] - 1s 3ms/step - loss: 3.4350 - accuracy: 0.1980\n",
            "Mất mát: 3.4349777698516846\n",
            "Độ chính xác 0.1979999989271164\n"
          ]
        }
      ]
    },
    {
      "cell_type": "code",
      "source": [
        "# Test mô hình\n",
        "X = test_images\n",
        "y = test_labels\n",
        "\n",
        "i = 6 #Test hình thứ i\n",
        "img = X[i].reshape(1, 32*32*3)\n",
        "matrix = np.argmax(model.predict(img), axis=-1)\n",
        "plt.imshow(X[i].reshape(32,32,3))\n",
        "plt.show()\n",
        "class_names = ['apple', 'aquarium_fish', 'baby', 'bear', 'beaver', 'bed', 'bee', 'beetle', 'bicycle', 'bottle', 'bowl', 'boy', 'bridge', 'bus', 'butterfly', 'camel', 'can', 'castle', 'caterpillar', 'cattle', 'chair', 'chimpanzee', 'clock', 'cloud', 'cockroach', 'couch', 'crab', 'crocodile', 'cup', 'dinosaur', 'dolphin', 'elephant', 'flatfish', 'forest', 'fox', 'girl', 'hamster', 'house', 'kangaroo', 'keyboard', 'lamp', 'lawn_mower', 'leopard', 'lion', 'lizard', 'lobster', 'man', 'maple_tree', 'motorcycle', 'mountain', 'mouse', 'mushroom', 'oak_tree', 'orange', 'orchid', 'otter', 'palm_tree', 'pear', 'pickup_truck', 'pine_tree', 'plain', 'plate', 'poppy', 'porcupine', 'possum', 'rabbit', 'raccoon', 'ray', 'road', 'rocket', 'rose', 'sea', 'seal', 'shark', 'shrew', 'skunk', 'skyscraper', 'snail', 'snake', 'spider', 'squirrel', 'streetcar', 'sunflower', 'sweet_pepper', 'table', 'tank', 'telephone', 'television', 'tiger', 'tractor', 'train', 'trout', 'tulip', 'turtle', 'wardrobe', 'whale', 'willow_tree', 'wolf', 'woman', 'worm']\n",
        "temp1 = matrix[0]\n",
        "print(\"Label: \", class_names[temp1])"
      ],
      "metadata": {
        "colab": {
          "base_uri": "https://localhost:8080/",
          "height": 465
        },
        "id": "GwaysL7p2aCp",
        "outputId": "0d7b4e2e-3237-4c3a-cd76-6aead1e76dfb"
      },
      "execution_count": 10,
      "outputs": [
        {
          "output_type": "stream",
          "name": "stdout",
          "text": [
            "1/1 [==============================] - 0s 89ms/step\n"
          ]
        },
        {
          "output_type": "display_data",
          "data": {
            "text/plain": [
              "<Figure size 640x480 with 1 Axes>"
            ],
            "image/png": "[encoded data removed]"
          },
          "metadata": {}
        },
        {
          "output_type": "stream",
          "name": "stdout",
          "text": [
            "Label:  raccoon\n"
          ]
        }
      ]
    },
    {
      "cell_type": "code",
      "source": [
        "from PIL import Image\n",
        "\n",
        "# Mở ảnh\n",
        "img = Image.open('xedap.jpg')\n",
        "\n",
        "# Resize ảnh về kích thước mong muốn\n",
        "img = img.resize((32, 32))\n",
        "\n",
        "# Chuyển đổi ảnh sang numpy array và chuẩn hóa\n",
        "img = np.asarray(img)\n",
        "img = img.reshape(1,32*32*3)\n",
        "img = img.astype('float32') / 255.0\n",
        "\n",
        "plt.imshow(img.reshape(32,32,3))\n",
        "plt.show()\n",
        "\n",
        "matrix = np.argmax(model.predict(img), axis=-1)\n",
        "\n",
        "class_names = ['apple', 'aquarium_fish', 'baby', 'bear', 'beaver', 'bed', 'bee', 'beetle', 'bicycle', 'bottle', 'bowl', 'boy', 'bridge', 'bus', 'butterfly', 'camel', 'can', 'castle', 'caterpillar', 'cattle', 'chair', 'chimpanzee', 'clock', 'cloud', 'cockroach', 'couch', 'crab', 'crocodile', 'cup', 'dinosaur', 'dolphin', 'elephant', 'flatfish', 'forest', 'fox', 'girl', 'hamster', 'house', 'kangaroo', 'keyboard', 'lamp', 'lawn_mower', 'leopard', 'lion', 'lizard', 'lobster', 'man', 'maple_tree', 'motorcycle', 'mountain', 'mouse', 'mushroom', 'oak_tree', 'orange', 'orchid', 'otter', 'palm_tree', 'pear', 'pickup_truck', 'pine_tree', 'plain', 'plate', 'poppy', 'porcupine', 'possum', 'rabbit', 'raccoon', 'ray', 'road', 'rocket', 'rose', 'sea', 'seal', 'shark', 'shrew', 'skunk', 'skyscraper', 'snail', 'snake', 'spider', 'squirrel', 'streetcar', 'sunflower', 'sweet_pepper', 'table', 'tank', 'telephone', 'television', 'tiger', 'tractor', 'train', 'trout', 'tulip', 'turtle', 'wardrobe', 'whale', 'willow_tree', 'wolf', 'woman', 'worm']\n",
        "temp1 = matrix[0]\n",
        "print(\"Label: \", class_names[temp1])"
      ],
      "metadata": {
        "colab": {
          "base_uri": "https://localhost:8080/",
          "height": 465
        },
        "id": "A9bgjRgX5Xke",
        "outputId": "86cd946a-140d-4b64-b147-8d1b643d053b"
      },
      "execution_count": 11,
      "outputs": [
        {
          "output_type": "display_data",
          "data": {
            "text/plain": [
              "<Figure size 640x480 with 1 Axes>"
            ],
            "image/png": "[encoded data removed]"
          },
          "metadata": {}
        },
        {
          "output_type": "stream",
          "name": "stdout",
          "text": [
            "1/1 [==============================] - 0s 30ms/step\n",
            "Label:  motorcycle\n"
          ]
        }
      ]
    }
  ]
}