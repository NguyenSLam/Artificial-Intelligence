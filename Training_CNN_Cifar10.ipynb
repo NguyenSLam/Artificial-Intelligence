{
  "nbformat": 4,
  "nbformat_minor": 0,
  "metadata": {
    "colab": {
      "provenance": [],
      "authorship_tag": "ABX9TyNbp1D8UUs5RsjyyNn7AWzm",
      "include_colab_link": true
    },
    "kernelspec": {
      "name": "python3",
      "display_name": "Python 3"
    },
    "language_info": {
      "name": "python"
    },
    "accelerator": "GPU",
    "gpuClass": "standard"
  },
  "cells": [
    {
      "cell_type": "markdown",
      "metadata": {
        "id": "view-in-github",
        "colab_type": "text"
      },
      "source": [
        "<a href=\"https://colab.research.google.com/github/NguyenSLam/Artificial-Intelligence/blob/main/Training_CNN_Cifar10.ipynb\" target=\"_parent\"><img src=\"https://colab.research.google.com/assets/colab-badge.svg\" alt=\"Open In Colab\"/></a>"
      ]
    },
    {
      "cell_type": "code",
      "execution_count": 1,
      "metadata": {
        "colab": {
          "base_uri": "https://localhost:8080/"
        },
        "id": "N0RI3CUTuAel",
        "outputId": "46a994ae-5fc3-454f-b830-2d51faddab53"
      },
      "outputs": [
        {
          "output_type": "stream",
          "name": "stdout",
          "text": [
            "Downloading data from https://www.cs.toronto.edu/~kriz/cifar-10-python.tar.gz\n",
            "170498071/170498071 [==============================] - 3s 0us/step\n"
          ]
        }
      ],
      "source": [
        "import matplotlib.pyplot as plt\n",
        "import numpy as np\n",
        "from keras.datasets import cifar10\n",
        "from keras.layers import Dense\n",
        "from keras.models import Sequential\n",
        "from keras.utils import to_categorical\n",
        "\n",
        "(x_train, y_train), (x_test, y_test) = cifar10.load_data()"
      ]
    },
    {
      "cell_type": "code",
      "source": [
        "x_train = x_train.astype('float32')/255\n",
        "x_test = x_test.astype('float32')/255\n",
        "print(x_train.shape)\n",
        "print(x_test.shape)\n",
        "print(y_test.shape)"
      ],
      "metadata": {
        "colab": {
          "base_uri": "https://localhost:8080/"
        },
        "id": "YYAzyqFBu1EN",
        "outputId": "f93c3755-dd56-4d0a-b6e1-9504a69a8bfb"
      },
      "execution_count": 2,
      "outputs": [
        {
          "output_type": "stream",
          "name": "stdout",
          "text": [
            "(50000, 32, 32, 3)\n",
            "(10000, 32, 32, 3)\n",
            "(10000, 1)\n"
          ]
        }
      ]
    },
    {
      "cell_type": "code",
      "source": [
        "from keras.utils import to_categorical\n",
        "# Chuyển đổi các nhãn ở đầu ra thành định dạng one-hot encoding\n",
        "y_train = to_categorical(y_train, 10)\n",
        "y_test = to_categorical(y_test, 10)"
      ],
      "metadata": {
        "id": "k14B5KEhvAzq"
      },
      "execution_count": 3,
      "outputs": []
    },
    {
      "cell_type": "code",
      "source": [
        "from keras.models import Sequential, Model\n",
        "from keras.layers import Dense, Dropout, Flatten, Conv2D, MaxPooling2D, Normalization, LeakyReLU\n",
        "from keras.optimizers import Adam\n",
        "from keras.layers.serialization import activation"
      ],
      "metadata": {
        "id": "09yWfR5NvJSH"
      },
      "execution_count": 4,
      "outputs": []
    },
    {
      "cell_type": "code",
      "source": [
        "model = Sequential()\n",
        "# Define model\n",
        "model = Sequential()\n",
        "model.add(Conv2D(32, kernel_size=(3, 3), activation='linear', input_shape=(32, 32, 3), padding='same'))\n",
        "model.add(LeakyReLU(alpha=0.1))\n",
        "model.add(MaxPooling2D((2, 2), padding='same'))\n",
        "\n",
        "model.add(Conv2D(64, (3, 3), activation='linear', padding='same'))\n",
        "model.add(LeakyReLU(alpha=0.1))\n",
        "model.add(MaxPooling2D((2, 2), padding='same'))\n",
        "\n",
        "model.add(Conv2D(128, (3, 3), activation='linear', padding='same'))\n",
        "model.add(LeakyReLU(alpha=0.1))\n",
        "model.add(MaxPooling2D((2, 2), padding='same'))\n",
        "\n",
        "model.add(Flatten())\n",
        "model.add(Dense(128, activation='linear'))\n",
        "model.add(LeakyReLU(alpha=0.1))\n",
        "model.add(Dense(10, activation='softmax'))"
      ],
      "metadata": {
        "id": "RWC3S95OvNgZ"
      },
      "execution_count": 5,
      "outputs": []
    },
    {
      "cell_type": "code",
      "source": [
        "from keras.losses import categorical_crossentropy\n",
        "model.compile(loss = categorical_crossentropy,\n",
        "              optimizer = Adam(),\n",
        "              metrics = ['accuracy'])\n",
        "train = model.fit(x_train, y_train, batch_size = 64, epochs = 20, verbose = 1)"
      ],
      "metadata": {
        "colab": {
          "base_uri": "https://localhost:8080/"
        },
        "id": "TLxoPvmOvRcw",
        "outputId": "b4ebe9e9-17e8-4224-9dcd-d5bae8c7ce4c"
      },
      "execution_count": 6,
      "outputs": [
        {
          "output_type": "stream",
          "name": "stdout",
          "text": [
            "Epoch 1/20\n",
            "782/782 [==============================] - 15s 7ms/step - loss: 1.3879 - accuracy: 0.4980\n",
            "Epoch 2/20\n",
            "782/782 [==============================] - 9s 12ms/step - loss: 0.9386 - accuracy: 0.6723\n",
            "Epoch 3/20\n",
            "782/782 [==============================] - 5s 7ms/step - loss: 0.7546 - accuracy: 0.7357\n",
            "Epoch 4/20\n",
            "782/782 [==============================] - 4s 5ms/step - loss: 0.6293 - accuracy: 0.7793\n",
            "Epoch 5/20\n",
            "782/782 [==============================] - 4s 5ms/step - loss: 0.5260 - accuracy: 0.8152\n",
            "Epoch 6/20\n",
            "782/782 [==============================] - 4s 5ms/step - loss: 0.4325 - accuracy: 0.8495\n",
            "Epoch 7/20\n",
            "782/782 [==============================] - 4s 5ms/step - loss: 0.3514 - accuracy: 0.8779\n",
            "Epoch 8/20\n",
            "782/782 [==============================] - 4s 5ms/step - loss: 0.2822 - accuracy: 0.9016\n",
            "Epoch 9/20\n",
            "782/782 [==============================] - 4s 5ms/step - loss: 0.2198 - accuracy: 0.9226\n",
            "Epoch 10/20\n",
            "782/782 [==============================] - 4s 5ms/step - loss: 0.1764 - accuracy: 0.9379\n",
            "Epoch 11/20\n",
            "782/782 [==============================] - 4s 5ms/step - loss: 0.1471 - accuracy: 0.9475\n",
            "Epoch 12/20\n",
            "782/782 [==============================] - 4s 5ms/step - loss: 0.1225 - accuracy: 0.9565\n",
            "Epoch 13/20\n",
            "782/782 [==============================] - 4s 5ms/step - loss: 0.1087 - accuracy: 0.9620\n",
            "Epoch 14/20\n",
            "782/782 [==============================] - 4s 5ms/step - loss: 0.0951 - accuracy: 0.9664\n",
            "Epoch 15/20\n",
            "782/782 [==============================] - 4s 5ms/step - loss: 0.0872 - accuracy: 0.9696\n",
            "Epoch 16/20\n",
            "782/782 [==============================] - 4s 5ms/step - loss: 0.0912 - accuracy: 0.9681\n",
            "Epoch 17/20\n",
            "782/782 [==============================] - 4s 5ms/step - loss: 0.0849 - accuracy: 0.9699\n",
            "Epoch 18/20\n",
            "782/782 [==============================] - 4s 5ms/step - loss: 0.0711 - accuracy: 0.9748\n",
            "Epoch 19/20\n",
            "782/782 [==============================] - 4s 5ms/step - loss: 0.0767 - accuracy: 0.9736\n",
            "Epoch 20/20\n",
            "782/782 [==============================] - 6s 7ms/step - loss: 0.0610 - accuracy: 0.9797\n"
          ]
        }
      ]
    },
    {
      "cell_type": "code",
      "source": [
        "# Test mô hình\n",
        "X = x_test\n",
        "y = y_test\n",
        "\n",
        "i = 3 #Test hình thứ i\n",
        "img = X[i+1].reshape(1, 32, 32, 3)\n",
        "matrix = np.argmax(model.predict(img), axis=-1)\n",
        "\n",
        "plt.imshow(X[i+1].reshape(32,32,3))\n",
        "plt.show()\n",
        "class_names = [\"Máy bay\", \"Ô tô\", \"Chim\", \"Mèo\", \"Nai\", \"Chó\", \"Ếch\", \"Ngựa\", \"Tàu thủy\", \"Xe tải\"]\n",
        "temp1 = matrix[0]\n",
        "print(\"Label: \", class_names[temp1])"
      ],
      "metadata": {
        "colab": {
          "base_uri": "https://localhost:8080/",
          "height": 465
        },
        "id": "fKe_hxA5vUBC",
        "outputId": "8e5ed2df-007c-4cc8-f2cf-7a9d30dcd6af"
      },
      "execution_count": 13,
      "outputs": [
        {
          "output_type": "stream",
          "name": "stdout",
          "text": [
            "1/1 [==============================] - 0s 22ms/step\n"
          ]
        },
        {
          "output_type": "display_data",
          "data": {
            "text/plain": [
              "<Figure size 640x480 with 1 Axes>"
            ],
            "image/png": "[encoded data removed]"
          },
          "metadata": {}
        },
        {
          "output_type": "stream",
          "name": "stdout",
          "text": [
            "Label:  Mèo\n"
          ]
        }
      ]
    },
    {
      "cell_type": "code",
      "source": [
        "from PIL import Image\n",
        "\n",
        "# Mở ảnh\n",
        "img = Image.open('/content/frog.jpg')\n",
        "\n",
        "# Resize ảnh về kích thước mong muốn\n",
        "img = img.resize((32, 32))\n",
        "\n",
        "# Chuyển đổi ảnh sang numpy array và chuẩn hóa\n",
        "img = np.asarray(img)\n",
        "img = img.reshape(1,32,32,3)\n",
        "img = img.astype('float32') / 255.0\n",
        "\n",
        "plt.imshow(img.reshape(32,32,3))\n",
        "plt.show()\n",
        "\n",
        "matrix = np.argmax(model.predict(img), axis=-1)\n",
        "\n",
        "class_names = [\"Máy bay\", \"Ô tô\", \"Chim\", \"Mèo\", \"Nai\", \"Chó\", \"Ếch\", \"Ngựa\", \"Tàu thủy\", \"Xe tải\",\"Sóc\"]\n",
        "temp1 = matrix[0]\n",
        "print(temp1)\n",
        "print(\"Label: \", class_names[temp1])"
      ],
      "metadata": {
        "colab": {
          "base_uri": "https://localhost:8080/",
          "height": 482
        },
        "id": "U96TROjNv9ae",
        "outputId": "888f6f63-a348-42f9-e9e0-6268a8660d97"
      },
      "execution_count": 15,
      "outputs": [
        {
          "output_type": "display_data",
          "data": {
            "text/plain": [
              "<Figure size 640x480 with 1 Axes>"
            ],
            "image/png": "[encoded data removed]"
          },
          "metadata": {}
        },
        {
          "output_type": "stream",
          "name": "stdout",
          "text": [
            "1/1 [==============================] - 0s 22ms/step\n",
            "6\n",
            "Label:  Ếch\n"
          ]
        }
      ]
    }
  ]
}